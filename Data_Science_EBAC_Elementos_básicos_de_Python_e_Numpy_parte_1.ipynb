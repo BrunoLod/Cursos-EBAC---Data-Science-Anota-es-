{
  "nbformat": 4,
  "nbformat_minor": 0,
  "metadata": {
    "colab": {
      "provenance": []
    },
    "kernelspec": {
      "name": "python3",
      "display_name": "Python 3"
    },
    "language_info": {
      "name": "python"
    }
  },
  "cells": [
    {
      "cell_type": "markdown",
      "source": [
        "# Estrutura de dados:"
      ],
      "metadata": {
        "id": "ftdNYbvxhr6w"
      }
    },
    {
      "cell_type": "markdown",
      "source": [
        "Listas:"
      ],
      "metadata": {
        "id": "McUoN_BmmUKq"
      }
    },
    {
      "cell_type": "code",
      "execution_count": 3,
      "metadata": {
        "id": "cAfSJwJF4KxH",
        "colab": {
          "base_uri": "https://localhost:8080/"
        },
        "outputId": "ebc32c9a-78b2-4410-d3fc-3b503b7af913"
      },
      "outputs": [
        {
          "output_type": "execute_result",
          "data": {
            "text/plain": [
              "[1, 2, 3, 4, 5, 6]"
            ]
          },
          "metadata": {},
          "execution_count": 3
        }
      ],
      "source": [
        "lista_1 = [1, 2, 3, 4, 5]\n",
        "lista_1.append(6)\n",
        "lista_1"
      ]
    },
    {
      "cell_type": "code",
      "source": [
        "lista_2 = [7, 8, 9, 10]"
      ],
      "metadata": {
        "id": "EQxDRA4CkOaD"
      },
      "execution_count": 4,
      "outputs": []
    },
    {
      "cell_type": "code",
      "source": [
        "nova_lista = lista_1 + lista_2\n",
        "nova_lista"
      ],
      "metadata": {
        "colab": {
          "base_uri": "https://localhost:8080/"
        },
        "id": "qq392Gv9l4cr",
        "outputId": "fd9b5c65-53bf-4b28-969c-1e36df435e4b"
      },
      "execution_count": 5,
      "outputs": [
        {
          "output_type": "execute_result",
          "data": {
            "text/plain": [
              "[1, 2, 3, 4, 5, 6, 7, 8, 9, 10]"
            ]
          },
          "metadata": {},
          "execution_count": 5
        }
      ]
    },
    {
      "cell_type": "code",
      "source": [
        "lista_str = [\"oi\", \"tudo\", \"bem?\"]\n",
        "\n",
        "x = nova_lista + lista_str\n",
        "x\n",
        "\n",
        "# Podemos atribuir em uma lista valores de tipos diferentes, não restrigindo em seu conjunto,\n",
        "# isto é, o escopo delimitado entre os colchetes, termos de tipos, natureza, diferentes, podendo\n",
        "# compreender em si strings, booleanos, floats e inters, parecido com o exemplo abaixo."
      ],
      "metadata": {
        "colab": {
          "base_uri": "https://localhost:8080/"
        },
        "id": "aGvIzncyl-ID",
        "outputId": "4666e64a-e18b-420e-f2cc-a193761f49bb"
      },
      "execution_count": 7,
      "outputs": [
        {
          "output_type": "execute_result",
          "data": {
            "text/plain": [
              "[1, 2, 3, 4, 5, 6, 7, 8, 9, 10, 'oi', 'tudo', 'bem?']"
            ]
          },
          "metadata": {},
          "execution_count": 7
        }
      ]
    },
    {
      "cell_type": "code",
      "source": [
        "lista = [1, 4, 5, 2, 7, 6, 3, 8, 11, 22, 15]\n",
        "lista"
      ],
      "metadata": {
        "colab": {
          "base_uri": "https://localhost:8080/"
        },
        "id": "tBvRPVymmMIa",
        "outputId": "58d9a809-bfc1-46f9-f757-c761c794b91b"
      },
      "execution_count": 13,
      "outputs": [
        {
          "output_type": "execute_result",
          "data": {
            "text/plain": [
              "[1, 4, 5, 2, 7, 6, 3, 8, 11, 22, 15]"
            ]
          },
          "metadata": {},
          "execution_count": 13
        }
      ]
    },
    {
      "cell_type": "code",
      "source": [
        "lista.sort() # A função sort() é usada para ordenar, do menor para o maior, os valores presentes numa lista.\n",
        "lista"
      ],
      "metadata": {
        "colab": {
          "base_uri": "https://localhost:8080/"
        },
        "id": "piRoYvV5moeJ",
        "outputId": "1bb1c1e3-e86b-47bd-92ce-7a06e0dc1e20"
      },
      "execution_count": 14,
      "outputs": [
        {
          "output_type": "execute_result",
          "data": {
            "text/plain": [
              "[1, 2, 3, 4, 5, 6, 7, 8, 11, 15, 22]"
            ]
          },
          "metadata": {},
          "execution_count": 14
        }
      ]
    },
    {
      "cell_type": "markdown",
      "source": [
        "# Tupla"
      ],
      "metadata": {
        "id": "9Msm1YGanXfN"
      }
    },
    {
      "cell_type": "markdown",
      "source": [
        "Coleções de dados ordenados e imutáveis, formadas por meio do uso de parênteses, com seus valores separados por vírgula."
      ],
      "metadata": {
        "id": "_BuhxryEn8Qd"
      }
    },
    {
      "cell_type": "code",
      "source": [
        "# Forma de uma tupla:\n",
        "\n",
        "a = (1, 2)\n",
        "a"
      ],
      "metadata": {
        "colab": {
          "base_uri": "https://localhost:8080/"
        },
        "id": "38SoBxaLm2cA",
        "outputId": "144c7da2-9556-4d1c-9e85-bce517185ae7"
      },
      "execution_count": 15,
      "outputs": [
        {
          "output_type": "execute_result",
          "data": {
            "text/plain": [
              "(1, 2)"
            ]
          },
          "metadata": {},
          "execution_count": 15
        }
      ]
    },
    {
      "cell_type": "markdown",
      "source": [
        "**Acessando uma tupla:**\n",
        "\n",
        "Conseguimos acessar uma tupla da mesma forma que fazemos com as listas, como veremos a seguir:"
      ],
      "metadata": {
        "id": "zahagupCpVHU"
      }
    },
    {
      "cell_type": "code",
      "source": [
        "print(a[0], a[1])"
      ],
      "metadata": {
        "colab": {
          "base_uri": "https://localhost:8080/"
        },
        "id": "ajTUgSUdpNmD",
        "outputId": "82d880df-05f3-4f62-9d1e-49ab75c85c94"
      },
      "execution_count": 17,
      "outputs": [
        {
          "output_type": "stream",
          "name": "stdout",
          "text": [
            "1 2\n"
          ]
        }
      ]
    },
    {
      "cell_type": "markdown",
      "source": [
        "Também permite atribuir valores de tipos diferentes em um determinado conjunto, como string, int, float ou boolean:"
      ],
      "metadata": {
        "id": "KWqI-2KIyiGT"
      }
    },
    {
      "cell_type": "code",
      "source": [
        "b = (1, 2, \"Grupo935\")\n",
        "\n",
        "x, y, z = b\n",
        "\n",
        "print(x)\n",
        "print(\"\")\n",
        "print(y)\n",
        "print(\"\")\n",
        "print(z)\n"
      ],
      "metadata": {
        "colab": {
          "base_uri": "https://localhost:8080/"
        },
        "id": "Bh9wmBouyT26",
        "outputId": "d2b766a7-f07e-4177-f43d-2078cd095186"
      },
      "execution_count": 44,
      "outputs": [
        {
          "output_type": "stream",
          "name": "stdout",
          "text": [
            "1\n",
            "\n",
            "2\n",
            "\n",
            "Grupo935\n"
          ]
        }
      ]
    },
    {
      "cell_type": "markdown",
      "source": [
        "# Conjunto:"
      ],
      "metadata": {
        "id": "WeTuxzVkzDlb"
      }
    },
    {
      "cell_type": "markdown",
      "source": [
        "Um tipo de coleção de dados não ordenados e com dados não duplicados. É definido, formado por meio do uso de chaves (\"{ }\"). Podemos, ainda, criar um conjunto por meio da função *set()*. Os conjuntos são oriundos da matemática."
      ],
      "metadata": {
        "id": "qATrbUNTzUVV"
      }
    },
    {
      "cell_type": "code",
      "source": [
        "pares = {8, 4, 12, 22, 44, 76, 88, 90, 18, 16, 14, 6, 2}\n",
        "pares"
      ],
      "metadata": {
        "colab": {
          "base_uri": "https://localhost:8080/"
        },
        "id": "jlUTjPHRy_fn",
        "outputId": "0307e7ed-b7b2-4e28-87bb-8bf8ce135016"
      },
      "execution_count": 20,
      "outputs": [
        {
          "output_type": "execute_result",
          "data": {
            "text/plain": [
              "{2, 4, 6, 8, 12, 14, 16, 18, 22, 44, 76, 88, 90}"
            ]
          },
          "metadata": {},
          "execution_count": 20
        }
      ]
    },
    {
      "cell_type": "code",
      "source": [
        "pares = {8, 8, 8, 4, 4, 4, 12, 12, 12, 22, 44, 76, 88, 90, 18, 16, 14, 6, 6, 6, 2}\n",
        "pares"
      ],
      "metadata": {
        "colab": {
          "base_uri": "https://localhost:8080/"
        },
        "id": "RrA0tVhf0ZXg",
        "outputId": "6118e4a7-fa7a-4d4a-feff-c8895cd9601c"
      },
      "execution_count": 22,
      "outputs": [
        {
          "output_type": "execute_result",
          "data": {
            "text/plain": [
              "{2, 4, 6, 8, 12, 14, 16, 18, 22, 44, 76, 88, 90}"
            ]
          },
          "metadata": {},
          "execution_count": 22
        }
      ]
    },
    {
      "cell_type": "markdown",
      "source": [
        "Como podemos ver acima, os conjuntos não permitem valores duplicados, além do que ordenam, de modo ascendente, os valores a eles passados. Então quando uma coleção de dados diz ser ordenada ou não odernada quer dizer se ela respeita ou não a ordem dos termos que as elas foram passadas? Bom, baseado nisso, penso que sim."
      ],
      "metadata": {
        "id": "8T79A0rq0tOT"
      }
    },
    {
      "cell_type": "code",
      "source": [
        "conjunto_1 = {0, 2, \"x\", 5, 6, True, False, 1.5}\n",
        "conjunto_1"
      ],
      "metadata": {
        "colab": {
          "base_uri": "https://localhost:8080/"
        },
        "id": "UcF3l0QS0pWh",
        "outputId": "deba2bd8-e169-48e2-949d-5cf127377a99"
      },
      "execution_count": 27,
      "outputs": [
        {
          "output_type": "execute_result",
          "data": {
            "text/plain": [
              "{0, 1.5, 2, 5, 6, True, 'x'}"
            ]
          },
          "metadata": {},
          "execution_count": 27
        }
      ]
    },
    {
      "cell_type": "code",
      "source": [
        "conjunto_2 = {1, 2, \"x\", 5, 6, True, False, 1.5}\n",
        "conjunto_2"
      ],
      "metadata": {
        "colab": {
          "base_uri": "https://localhost:8080/"
        },
        "id": "ERC2LY3U1c8K",
        "outputId": "3286190e-ccac-4c69-b793-34b77c46e894"
      },
      "execution_count": 28,
      "outputs": [
        {
          "output_type": "execute_result",
          "data": {
            "text/plain": [
              "{1, 1.5, 2, 5, 6, False, 'x'}"
            ]
          },
          "metadata": {},
          "execution_count": 28
        }
      ]
    },
    {
      "cell_type": "markdown",
      "source": [
        "Assim como nas listas, os conjuntos permitem que valores de tipos diferentes podem ser a eles segmentados, mas com uma diferença: perceba que ele separa os tipos de valores numa ordem, cada qual para valores numéricos, que podem ser inteiros ou decimais, valores booleanos (lógicos), e valores de caracteres, isto é, strings.\n",
        "\n",
        "\n",
        "Por outro lado, notou a diferença do conjunto_1 em relação ao conjunto_2? Quando eu passei o valor \"0\" no primeiro, o valor booleano \"False\" foi desconsiderado, justamente porque o número 0 corresponde, numericamente, a esse respectivo valor booleano. Desse modo, como os conjuntos não permitem valores duplicados, ele deixa de ser impresso. O mesmo ocorre com o conjunto_2, no qual o \"True\" deixará de existir, por assim dizer, tendo em vista que o \" 1 \" está presente no conjunto."
      ],
      "metadata": {
        "id": "fu4H-WBk1e3v"
      }
    },
    {
      "cell_type": "markdown",
      "source": [
        "**Formando um conjunto por meio da função set():**"
      ],
      "metadata": {
        "id": "q8unYZ3k3lC4"
      }
    },
    {
      "cell_type": "code",
      "source": [
        "x = \"Tinho\"\n",
        "x = set(x)\n",
        "x"
      ],
      "metadata": {
        "colab": {
          "base_uri": "https://localhost:8080/"
        },
        "id": "LqVa_0n13Ei5",
        "outputId": "126fea62-8dea-429d-b49f-7e8644852588"
      },
      "execution_count": 29,
      "outputs": [
        {
          "output_type": "execute_result",
          "data": {
            "text/plain": [
              "{'T', 'h', 'i', 'n', 'o'}"
            ]
          },
          "metadata": {},
          "execution_count": 29
        }
      ]
    },
    {
      "cell_type": "markdown",
      "source": [
        "Podemos, ainda realizar operações matemáticas de união, de interseção e de diferença (subtração), com os conjuntos, como por exemplo:"
      ],
      "metadata": {
        "id": "jnDfOP-34h7V"
      }
    },
    {
      "cell_type": "markdown",
      "source": [
        "**União:**"
      ],
      "metadata": {
        "id": "_wG-zY8s5ADx"
      }
    },
    {
      "cell_type": "code",
      "source": [
        "pares = {2 , 4, 6, 8, 10}\n",
        "impares = {1, 3, 5, 7, 9}\n",
        "\n",
        "pares | impares"
      ],
      "metadata": {
        "colab": {
          "base_uri": "https://localhost:8080/"
        },
        "id": "2UZbgXIT3eso",
        "outputId": "e10c729e-67f1-4f6c-c0c8-12860df6aef9"
      },
      "execution_count": 31,
      "outputs": [
        {
          "output_type": "execute_result",
          "data": {
            "text/plain": [
              "{1, 2, 3, 4, 5, 6, 7, 8, 9, 10}"
            ]
          },
          "metadata": {},
          "execution_count": 31
        }
      ]
    },
    {
      "cell_type": "markdown",
      "source": [
        "**Interseção:**"
      ],
      "metadata": {
        "id": "uoLvd40_5EEH"
      }
    },
    {
      "cell_type": "code",
      "source": [
        "primos = {2, 3, 5, 7, 11, 13}\n",
        "\n",
        "primos & impares\n",
        "\n",
        "# O operador \" & \" realiza aqui a operação matemátca\n",
        "# de interseção, selecionando apenas os valores que\n",
        "# estão presentes em ambos os conjuntos."
      ],
      "metadata": {
        "colab": {
          "base_uri": "https://localhost:8080/"
        },
        "id": "1KxrlLni47lx",
        "outputId": "5f8e5704-6482-4812-fbb4-afe6657b9fef"
      },
      "execution_count": 32,
      "outputs": [
        {
          "output_type": "execute_result",
          "data": {
            "text/plain": [
              "{3, 5, 7}"
            ]
          },
          "metadata": {},
          "execution_count": 32
        }
      ]
    },
    {
      "cell_type": "markdown",
      "source": [
        "**Diferença:**"
      ],
      "metadata": {
        "id": "j6RTPLcw5s-d"
      }
    },
    {
      "cell_type": "code",
      "source": [
        "primos - impares\n",
        "\n",
        "# Por meio da diferença de um conjunto em relação ao outro,\n",
        "# resta apenas os valores que somente se encontram presentes\n",
        "# no conjunto dos números primos."
      ],
      "metadata": {
        "colab": {
          "base_uri": "https://localhost:8080/"
        },
        "id": "L_z9Rpgl5Tj0",
        "outputId": "3f427cb0-a5ae-485d-be9a-7f1c7a865f1b"
      },
      "execution_count": 35,
      "outputs": [
        {
          "output_type": "execute_result",
          "data": {
            "text/plain": [
              "{2, 11, 13}"
            ]
          },
          "metadata": {},
          "execution_count": 35
        }
      ]
    },
    {
      "cell_type": "markdown",
      "source": [
        "# Dicionários:"
      ],
      "metadata": {
        "id": "3U5Ir-T86S6d"
      }
    },
    {
      "cell_type": "markdown",
      "source": [
        "Estruturas de dados do tipo (chave : valor), na medida em que uma determinada chave representa um determinado valor. Podem ser compreendidos como um conjunto de dados de tipo chave: valor. Vejamos como são construídos."
      ],
      "metadata": {
        "id": "5Uen6szy6W-9"
      }
    },
    {
      "cell_type": "code",
      "source": [
        "dicionario = {\"x\":1, \"y\":2, \"z\":3}\n",
        "dicionario"
      ],
      "metadata": {
        "colab": {
          "base_uri": "https://localhost:8080/"
        },
        "id": "eDOLjkR_5zx9",
        "outputId": "3e6bfaea-295b-4c1b-ff91-61da09417243"
      },
      "execution_count": 37,
      "outputs": [
        {
          "output_type": "execute_result",
          "data": {
            "text/plain": [
              "{'x': 1, 'y': 2, 'z': 3}"
            ]
          },
          "metadata": {},
          "execution_count": 37
        }
      ]
    },
    {
      "cell_type": "markdown",
      "source": [
        "Para acessar os valores do dicionário, como fazíamos com as listas ou tuplas, não basta escrever da seguinte forma: dicionario[2]. Se dicionário obedecesse a lógica de acesso de uma lista ou tupla, dal ação nos permitiria acessar o valor 3, valor da chave \"y\". Da mesma forma, para acessá-lo, precisamos falar qual é a chave que ele se encontra, como veremos abaixo."
      ],
      "metadata": {
        "id": "cUU7ptnx7a3A"
      }
    },
    {
      "cell_type": "code",
      "source": [
        "dicionario[\"z\"]"
      ],
      "metadata": {
        "colab": {
          "base_uri": "https://localhost:8080/"
        },
        "id": "IxO8GJBv7IQ7",
        "outputId": "f335b77b-3ba7-487a-84d1-4073218f92bf"
      },
      "execution_count": 41,
      "outputs": [
        {
          "output_type": "execute_result",
          "data": {
            "text/plain": [
              "3"
            ]
          },
          "metadata": {},
          "execution_count": 41
        }
      ]
    },
    {
      "cell_type": "markdown",
      "source": [
        "Podemos adicionar novas chaves e valores associados a elas da seguinte forma nos dicionários:"
      ],
      "metadata": {
        "id": "7IQ_eJfX8in1"
      }
    },
    {
      "cell_type": "code",
      "source": [
        "dicionario[\"a\"] = 5\n",
        "dicionario"
      ],
      "metadata": {
        "colab": {
          "base_uri": "https://localhost:8080/"
        },
        "id": "rrNDW_qL7Sx-",
        "outputId": "e2589cf5-8ba0-46ae-d41f-14da26195941"
      },
      "execution_count": 42,
      "outputs": [
        {
          "output_type": "execute_result",
          "data": {
            "text/plain": [
              "{'x': 1, 'y': 2, 'z': 3, 'a': 5}"
            ]
          },
          "metadata": {},
          "execution_count": 42
        }
      ]
    },
    {
      "cell_type": "code",
      "source": [
        "len(dicionario)"
      ],
      "metadata": {
        "colab": {
          "base_uri": "https://localhost:8080/"
        },
        "id": "JvQY1JkE8fCU",
        "outputId": "1d04d787-9237-4dda-e14d-44ab075e5ecb"
      },
      "execution_count": 43,
      "outputs": [
        {
          "output_type": "execute_result",
          "data": {
            "text/plain": [
              "4"
            ]
          },
          "metadata": {},
          "execution_count": 43
        }
      ]
    },
    {
      "cell_type": "markdown",
      "source": [
        "# Estrutura de decisão condicional if, elif e else:\n"
      ],
      "metadata": {
        "id": "NDAlOQjBoTq5"
      }
    },
    {
      "cell_type": "markdown",
      "source": [
        "Além desses elementos de sintaxe, o Python provê uma estrutura de decisão condicional, baseada na estrutura se ( if ), senão for ( elif ) e senão ( else ). Por exemplo:"
      ],
      "metadata": {
        "id": "Yak_cTIZodsD"
      }
    },
    {
      "cell_type": "code",
      "source": [
        "x = int(input(\"Quantos anos você tem?\"))\n",
        "\n",
        "if x == 0:\n",
        "\tprint(\"Parabéns, parece que você acabou de nascer e tem %d anos de idade.\" % x)\n",
        "\n",
        "elif x < 0:\n",
        "\tprint(\"Algo de errado não está certo, você não pode ter %d anos de idade.\" % x)\n",
        "\n",
        "elif x > 100:\n",
        "\tprint(\"Certeza que você não é japonês(sa)? Você tem %d anos de idade!\" % x)\n",
        "\n",
        "else:\n",
        "\tprint(\"Você tem %d anos de idade\" % x)\n"
      ],
      "metadata": {
        "id": "JGHMCIXLdna7"
      },
      "execution_count": null,
      "outputs": []
    },
    {
      "cell_type": "markdown",
      "source": [
        "Note como o ***elif*** opera, ele sempre se dá na dinâmica da negação do processo anterior, sendo a sua afirmação verdadeira. Poderíamos entender a patir desse código como o seguinte: Se você não tem uma idade equivalente a zero, então você pode ter uma idade menor que zero; se você não tem uma idade menor que zero, então você tem uma idade superior a cem.\n",
        "\n",
        "O ***else***, por sua vez, vem na negação de todas as condições anteriores, isto é, se a sua idade não é igual a zero, menor que zero, ou maior que cem, ele irá realizar o código circunscrito à condição ***else***."
      ],
      "metadata": {
        "id": "ZJo0-2u2olZf"
      }
    },
    {
      "cell_type": "markdown",
      "source": [
        "# Estrutura de Repetição (While Loop & For Loop):"
      ],
      "metadata": {
        "id": "3KLKFXi2or7Y"
      }
    },
    {
      "cell_type": "markdown",
      "source": [
        "As estruturas de repetição compreendidas no Python são tanto os ciclos while e for, cada qual com as suas particularidades. Por meio delas, conseguimos realizar operações automatizadas, quer seja gerando um bloco de valores na formação de alguma coleção de dados qualquer, quer seja percorrendo valores presentes numa coleção de dados (ciclo for)."
      ],
      "metadata": {
        "id": "uGcf98l4o0jq"
      }
    },
    {
      "cell_type": "markdown",
      "source": [
        "**While Loop:**"
      ],
      "metadata": {
        "id": "0OvH2Lg7o-r5"
      }
    },
    {
      "cell_type": "markdown",
      "source": [
        "A estrutura de repetição while repete a execução de um bloco de código identado enquanto que a sua condição for verdadeira. Por exemplo:"
      ],
      "metadata": {
        "id": "sPV4oI_XpJnf"
      }
    },
    {
      "cell_type": "code",
      "source": [
        "i = 2\n",
        "\n",
        "while i <= 20:\n",
        "  print(i, end=\",\") # Esse recurso end que eu utilizo é para que os valores sejam mostrados em linha, cada quais separados por vírgula.\n",
        "  i = i + 2"
      ],
      "metadata": {
        "colab": {
          "base_uri": "https://localhost:8080/"
        },
        "id": "4cvqfTT3opUi",
        "outputId": "2ff75c71-911c-49c9-ea86-248584b7ab8e"
      },
      "execution_count": 20,
      "outputs": [
        {
          "output_type": "stream",
          "name": "stdout",
          "text": [
            "2,4,6,8,10,12,14,16,18,20,"
          ]
        }
      ]
    },
    {
      "cell_type": "markdown",
      "source": [
        "Esse código se inicia com o valor de “ i “ valendo dois, que é menor do que 20, sendo esse impresso. Depois de ser impresso, será executado uma soma matemática, de tal forma que quando passar novamente pelo ciclo, seu valor impresso será quatro. Depois seu valor será somado por dois novamente, o qual irá passar no ciclo novamente, tendo o valor seis impresso e assim por diante. Enquanto a condição de “ i “ for verdadeira, isto é, ele ser menor ou igual a 20, o código será executado."
      ],
      "metadata": {
        "id": "wyqbNsjQpVCl"
      }
    },
    {
      "cell_type": "markdown",
      "source": [
        "**For Loop:**"
      ],
      "metadata": {
        "id": "CPJ7VKo6pagT"
      }
    },
    {
      "cell_type": "markdown",
      "source": [
        "A estrutura de repetição for é usado quando queremos percorrer os valores de uma sequência de uma coleção de dados, como uma lista por exemplo, e executar um determinado comando para cada elemento. Por exemplo:"
      ],
      "metadata": {
        "id": "FcR6nqEypheI"
      }
    },
    {
      "cell_type": "code",
      "source": [
        "lista = [1,3,5,7,9,11,13,15]\n",
        "for i in lista:\n",
        "  print(i, end=\",\")"
      ],
      "metadata": {
        "colab": {
          "base_uri": "https://localhost:8080/"
        },
        "id": "Do58uaDfpOGU",
        "outputId": "b70d9b46-782c-4339-ba66-fa249a610052"
      },
      "execution_count": 21,
      "outputs": [
        {
          "output_type": "stream",
          "name": "stdout",
          "text": [
            "1,3,5,7,9,11,13,15,"
          ]
        }
      ]
    },
    {
      "cell_type": "markdown",
      "source": [
        "Como podemos ver aqui, o ciclo for percorreu todos os valores da lista, mas podemos fazer com ele o que fizemos com o while loop? Ou seja, querer escrever um conjunto de dados sem que precisamos fazer, para tanto, manualmente ou por meio do ciclo while? A resposta é sim, veremos como fazer:"
      ],
      "metadata": {
        "id": "He7_uIqnprz2"
      }
    },
    {
      "cell_type": "code",
      "source": [
        "for i in range(2, 1002, 2):\n",
        "\tprint(i, end=\",\")"
      ],
      "metadata": {
        "colab": {
          "base_uri": "https://localhost:8080/"
        },
        "id": "fn9dyQ5cpno4",
        "outputId": "6647b49c-e836-456e-da75-22837b6b35f5"
      },
      "execution_count": 22,
      "outputs": [
        {
          "output_type": "stream",
          "name": "stdout",
          "text": [
            "2,4,6,8,10,12,14,16,18,20,22,24,26,28,30,32,34,36,38,40,42,44,46,48,50,52,54,56,58,60,62,64,66,68,70,72,74,76,78,80,82,84,86,88,90,92,94,96,98,100,102,104,106,108,110,112,114,116,118,120,122,124,126,128,130,132,134,136,138,140,142,144,146,148,150,152,154,156,158,160,162,164,166,168,170,172,174,176,178,180,182,184,186,188,190,192,194,196,198,200,202,204,206,208,210,212,214,216,218,220,222,224,226,228,230,232,234,236,238,240,242,244,246,248,250,252,254,256,258,260,262,264,266,268,270,272,274,276,278,280,282,284,286,288,290,292,294,296,298,300,302,304,306,308,310,312,314,316,318,320,322,324,326,328,330,332,334,336,338,340,342,344,346,348,350,352,354,356,358,360,362,364,366,368,370,372,374,376,378,380,382,384,386,388,390,392,394,396,398,400,402,404,406,408,410,412,414,416,418,420,422,424,426,428,430,432,434,436,438,440,442,444,446,448,450,452,454,456,458,460,462,464,466,468,470,472,474,476,478,480,482,484,486,488,490,492,494,496,498,500,502,504,506,508,510,512,514,516,518,520,522,524,526,528,530,532,534,536,538,540,542,544,546,548,550,552,554,556,558,560,562,564,566,568,570,572,574,576,578,580,582,584,586,588,590,592,594,596,598,600,602,604,606,608,610,612,614,616,618,620,622,624,626,628,630,632,634,636,638,640,642,644,646,648,650,652,654,656,658,660,662,664,666,668,670,672,674,676,678,680,682,684,686,688,690,692,694,696,698,700,702,704,706,708,710,712,714,716,718,720,722,724,726,728,730,732,734,736,738,740,742,744,746,748,750,752,754,756,758,760,762,764,766,768,770,772,774,776,778,780,782,784,786,788,790,792,794,796,798,800,802,804,806,808,810,812,814,816,818,820,822,824,826,828,830,832,834,836,838,840,842,844,846,848,850,852,854,856,858,860,862,864,866,868,870,872,874,876,878,880,882,884,886,888,890,892,894,896,898,900,902,904,906,908,910,912,914,916,918,920,922,924,926,928,930,932,934,936,938,940,942,944,946,948,950,952,954,956,958,960,962,964,966,968,970,972,974,976,978,980,982,984,986,988,990,992,994,996,998,1000,"
          ]
        }
      ]
    },
    {
      "cell_type": "markdown",
      "source": [
        "O conjunto de números que não aparecem aqui é porque simplesmente não caberiam e dificultaria a visualização, mas vamos entender o código acima. Quando eu digo que o i irá passar em um alcançe (range) de 1002 valores, começando no número 2 e “pulando” os valores subsequentes de dois em dois, ele forma esse conjunto de dados. O primeiro valor do parâmetro da função range indica onde começa, o seguinte parâmetro indica onde termina, e o terceiro indica como se sucederá a sequência dos valores - caso não informamos um valor em especial, por padrão, ele passará para os valores seguintes. Como no Python o último valor sempre é omitido, incluindo dentro da função range( ), como queremos que esse conjunto de dados vá até o valor 1000, eu preciso, uma vez que eu “salto” de dois em dois, passar um alcançe limite de 1002."
      ],
      "metadata": {
        "id": "pmyrnGZCp2aK"
      }
    },
    {
      "cell_type": "code",
      "source": [
        ""
      ],
      "metadata": {
        "id": "YJHxPoXspw7R"
      },
      "execution_count": null,
      "outputs": []
    }
  ]
}