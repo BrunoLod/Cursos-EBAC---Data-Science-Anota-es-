{
  "nbformat": 4,
  "nbformat_minor": 0,
  "metadata": {
    "colab": {
      "provenance": []
    },
    "kernelspec": {
      "name": "python3",
      "display_name": "Python 3"
    },
    "language_info": {
      "name": "python"
    }
  },
  "cells": [
    {
      "cell_type": "markdown",
      "source": [
        "# Elementos básicos de  Numpy e Python - Parte 2:"
      ],
      "metadata": {
        "id": "Pj2iphToDuPT"
      }
    },
    {
      "cell_type": "code",
      "execution_count": null,
      "metadata": {
        "id": "ih5YgcuxDa-x"
      },
      "outputs": [],
      "source": [
        "import numpy as np"
      ]
    },
    {
      "cell_type": "code",
      "source": [
        "np.pi"
      ],
      "metadata": {
        "colab": {
          "base_uri": "https://localhost:8080/"
        },
        "id": "zBIeHGawF4ib",
        "outputId": "8910fac2-b251-43fc-ceb4-43b1061d2b10"
      },
      "execution_count": null,
      "outputs": [
        {
          "output_type": "execute_result",
          "data": {
            "text/plain": [
              "3.141592653589793"
            ]
          },
          "metadata": {},
          "execution_count": 2
        }
      ]
    },
    {
      "cell_type": "markdown",
      "source": [
        "O Numpy é um pacote essencial à computação científica em Python, constituindo-se de uma biblioteca que fornece um objeto array multidimensional, isto é, que compreenda vetores e matrizes, bem como uma variedade de rotinas para operações rápidas.\n",
        "\n",
        "A principal parte do pacote Numpy é o objeto NDArray, que é um conjunto de dados n-dimensional (que possuem quantas dimensões lhe forem passadas) de tipos iguais. Possui um desempenho superior se comparado às sequências padrões do Python (lista, tupla e etc), pois as operações são realizadas em códigos compilados. Ainda, apresenta outras diferenças, tais como:\n",
        "\n",
        "\n",
        "\n",
        "*   São de tamanho fixo, e as listas não;\n",
        "\n",
        "*   Os elementos dos arrays Numpy devem ser todos do mesmo tipo, enquanto que na lista não;  \n",
        "\n",
        "*   Os arrays do NumPy facilitam operações matemáticas em uma grande quantidade de dados, sendo executadas de forma mais eficiente e com menos código do que é possível utilizando as sequências do Python (lista, tuplas e afins).\n"
      ],
      "metadata": {
        "id": "JknE4oWpIsMH"
      }
    },
    {
      "cell_type": "markdown",
      "source": [
        "**Exemplo simples:**"
      ],
      "metadata": {
        "id": "Oi8bGN_DN5ef"
      }
    },
    {
      "cell_type": "code",
      "source": [
        "lista_a = [1,2,3,4,5]\n",
        "lista_b = [6,7,8,9,10]\n",
        "\n",
        "lista_c = []\n",
        "\n",
        "for i in range(len(lista_a)):\n",
        "\n",
        "  lista_c.append(lista_a[i]*lista_b[i]) # Aqui eu pego o index passado pelo comprimento da lista a\n",
        "                                        # e o chamo o valor presente, na posição de cada index, das\n",
        "                                        # respectivas listas, multiplicando-os e armazenando os valores\n",
        "                                        # multiplicados numa nova lista, lista c.\n",
        "\n",
        "                                        # Como tanto a lista a quanto a lista b possuem o mesmo comprimento\n",
        "                                        # de valores, independeria passar uma ou outra no ciclo for.\n",
        "\n"
      ],
      "metadata": {
        "id": "Z3HbE1dDF7y2"
      },
      "execution_count": null,
      "outputs": []
    },
    {
      "cell_type": "code",
      "source": [
        "lista_c"
      ],
      "metadata": {
        "colab": {
          "base_uri": "https://localhost:8080/"
        },
        "id": "6_2xd5UCOY06",
        "outputId": "51699bad-c9bd-436c-e874-b33add880baf"
      },
      "execution_count": null,
      "outputs": [
        {
          "output_type": "execute_result",
          "data": {
            "text/plain": [
              "[6, 14, 24, 36, 50]"
            ]
          },
          "metadata": {},
          "execution_count": 4
        }
      ]
    },
    {
      "cell_type": "markdown",
      "source": [
        "Podemos fazer a mesma coisa com o NumPy array, só de modo mais rápido e com menos código, vejamos:"
      ],
      "metadata": {
        "id": "CatSWhSDQR5p"
      }
    },
    {
      "cell_type": "code",
      "source": [
        "array_a = np.array(lista_a)\n",
        "array_b = np.array(lista_b)\n",
        "\n",
        "# Por meio do pacote numpy, executando a função array, transformo o que antes era uma lista\n",
        "# num conjunto de vetores ou matrizes. O array ele pode apresentar natureza tanto vetorial\n",
        "# quanto matricial, dependendo apenas de como irá o utilizar e o contexto de aplicação.\n",
        "\n",
        "array_c = array_a * array_b\n",
        "array_c"
      ],
      "metadata": {
        "colab": {
          "base_uri": "https://localhost:8080/"
        },
        "id": "5ua5a9L5OZy5",
        "outputId": "0e2ef3d5-a416-4a79-9b67-ac30eebfc3d4"
      },
      "execution_count": null,
      "outputs": [
        {
          "output_type": "execute_result",
          "data": {
            "text/plain": [
              "array([ 6, 14, 24, 36, 50])"
            ]
          },
          "metadata": {},
          "execution_count": 5
        }
      ]
    },
    {
      "cell_type": "code",
      "source": [
        "type(array_c)"
      ],
      "metadata": {
        "colab": {
          "base_uri": "https://localhost:8080/"
        },
        "id": "Fp8CXR9YREgs",
        "outputId": "e4fc732e-0ce6-4a77-9fb9-0422b4042e04"
      },
      "execution_count": null,
      "outputs": [
        {
          "output_type": "execute_result",
          "data": {
            "text/plain": [
              "numpy.ndarray"
            ]
          },
          "metadata": {},
          "execution_count": 6
        }
      ]
    },
    {
      "cell_type": "markdown",
      "source": [
        "**Entendo os arrays:**\n",
        "\n",
        "Como dito anteriormente, os arrays não aceitam mais de um tipo de dados em seu conjunto, quer seja entendido como vetorial ou matricial, transformando todos em um único tipo de dados que, internamente, são hierarquizado em maior ou menor grau de importância, por assim dizer. Isto posto, vejamos alguns exemplos:"
      ],
      "metadata": {
        "id": "5aq9ywKora9b"
      }
    },
    {
      "cell_type": "code",
      "source": [
        "n_array = np.array([1,2,3,5.,22.22])\n",
        "n_array"
      ],
      "metadata": {
        "colab": {
          "base_uri": "https://localhost:8080/"
        },
        "id": "Bu8KJdSnrLCr",
        "outputId": "c6d8bcb9-f62a-45a5-d64d-0498f27fd043"
      },
      "execution_count": null,
      "outputs": [
        {
          "output_type": "execute_result",
          "data": {
            "text/plain": [
              "array([ 1.  ,  2.  ,  3.  ,  5.  , 22.22])"
            ]
          },
          "metadata": {},
          "execution_count": 9
        }
      ]
    },
    {
      "cell_type": "code",
      "source": [
        "n_array_2 = np.array([1,2,3,4,\"22\"])\n",
        "n_array_2"
      ],
      "metadata": {
        "colab": {
          "base_uri": "https://localhost:8080/"
        },
        "id": "dLzI61i3r-oB",
        "outputId": "8ec267b6-4070-40ae-eef1-c7533baf441c"
      },
      "execution_count": null,
      "outputs": [
        {
          "output_type": "execute_result",
          "data": {
            "text/plain": [
              "array(['1', '2', '3', '4', '22'], dtype='<U21')"
            ]
          },
          "metadata": {},
          "execution_count": 10
        }
      ]
    },
    {
      "cell_type": "markdown",
      "source": [
        "Como podemos ver, o array, a partir de uma determinada hierarquia, define todos os conjuntos de dados em um único tipo. Porém, de outro modo, podemos explicitar o tipo de dados que queremos que o array forme da seguinte forma:"
      ],
      "metadata": {
        "id": "bsUjF7WUsuGm"
      }
    },
    {
      "cell_type": "code",
      "source": [
        "n_array_3 = np.array([1,2,3,4,5], dtype=\"float\")\n",
        "n_array_3"
      ],
      "metadata": {
        "colab": {
          "base_uri": "https://localhost:8080/"
        },
        "id": "UI1XyCkfssAg",
        "outputId": "93615197-c818-4f34-a700-eb1dd94c1d79"
      },
      "execution_count": null,
      "outputs": [
        {
          "output_type": "execute_result",
          "data": {
            "text/plain": [
              "array([1., 2., 3., 4., 5.])"
            ]
          },
          "metadata": {},
          "execution_count": 12
        }
      ]
    },
    {
      "cell_type": "markdown",
      "source": [
        "Criando Arrays quaiquer:"
      ],
      "metadata": {
        "id": "e8RS1aSpwG1q"
      }
    },
    {
      "cell_type": "code",
      "source": [
        "matriz_zeros = np.zeros((2,2))\n",
        "matriz_zeros"
      ],
      "metadata": {
        "colab": {
          "base_uri": "https://localhost:8080/"
        },
        "id": "m5Wfu_njvb2O",
        "outputId": "afd6ea9b-9c7f-4974-ee4b-e1f18cdede37"
      },
      "execution_count": null,
      "outputs": [
        {
          "output_type": "execute_result",
          "data": {
            "text/plain": [
              "array([[0., 0.],\n",
              "       [0., 0.]])"
            ]
          },
          "metadata": {},
          "execution_count": 14
        }
      ]
    },
    {
      "cell_type": "code",
      "source": [
        "vetor = np.zeros(5)\n",
        "vetor"
      ],
      "metadata": {
        "colab": {
          "base_uri": "https://localhost:8080/"
        },
        "id": "qFoOf5kTwRJ-",
        "outputId": "54d95b8f-210a-429f-9e1a-5a4ec831b844"
      },
      "execution_count": null,
      "outputs": [
        {
          "output_type": "execute_result",
          "data": {
            "text/plain": [
              "array([0., 0., 0., 0., 0.])"
            ]
          },
          "metadata": {},
          "execution_count": 16
        }
      ]
    },
    {
      "cell_type": "code",
      "source": [
        "# Criando um conjunto de dados pares por meio do array:\n",
        "\n",
        "x_array = np.arange(2,201,2)\n",
        "x_array"
      ],
      "metadata": {
        "colab": {
          "base_uri": "https://localhost:8080/"
        },
        "id": "jdFiIDXMwjhz",
        "outputId": "cc4fceaa-59ce-4930-c00f-081fb89fd1bd"
      },
      "execution_count": null,
      "outputs": [
        {
          "output_type": "execute_result",
          "data": {
            "text/plain": [
              "array([  2,   4,   6,   8,  10,  12,  14,  16,  18,  20,  22,  24,  26,\n",
              "        28,  30,  32,  34,  36,  38,  40,  42,  44,  46,  48,  50,  52,\n",
              "        54,  56,  58,  60,  62,  64,  66,  68,  70,  72,  74,  76,  78,\n",
              "        80,  82,  84,  86,  88,  90,  92,  94,  96,  98, 100, 102, 104,\n",
              "       106, 108, 110, 112, 114, 116, 118, 120, 122, 124, 126, 128, 130,\n",
              "       132, 134, 136, 138, 140, 142, 144, 146, 148, 150, 152, 154, 156,\n",
              "       158, 160, 162, 164, 166, 168, 170, 172, 174, 176, 178, 180, 182,\n",
              "       184, 186, 188, 190, 192, 194, 196, 198, 200])"
            ]
          },
          "metadata": {},
          "execution_count": 17
        }
      ]
    },
    {
      "cell_type": "code",
      "source": [
        "y = np.random.rand(3,2)*100\n",
        "y"
      ],
      "metadata": {
        "colab": {
          "base_uri": "https://localhost:8080/"
        },
        "id": "fqLhFgAZw4Ix",
        "outputId": "484392d2-cb54-46b9-b18c-c864a5741234"
      },
      "execution_count": null,
      "outputs": [
        {
          "output_type": "execute_result",
          "data": {
            "text/plain": [
              "array([[ 4.78979395, 83.76232185],\n",
              "       [63.44231091, 88.57631209],\n",
              "       [62.77603322, 87.98862293]])"
            ]
          },
          "metadata": {},
          "execution_count": 22
        }
      ]
    },
    {
      "cell_type": "markdown",
      "source": [
        "**Operações aritiméticas com Arrays:**"
      ],
      "metadata": {
        "id": "QqOQjxmJxz9d"
      }
    },
    {
      "cell_type": "markdown",
      "source": [
        "Podemos realizar todas operações aritiméticas em arrays vetoriais, o que passa por soma, subtração, multiplicação, divisão, potenciação. A única exigência é que esses arrays tenham o mesmo comprimento, pois dará erro."
      ],
      "metadata": {
        "id": "dAcYCGrmx61E"
      }
    },
    {
      "cell_type": "markdown",
      "source": [
        "# Indexação e Matrizes:"
      ],
      "metadata": {
        "id": "mBDQIFe41neu"
      }
    },
    {
      "cell_type": "markdown",
      "source": [
        "Indexação básica, indexação booleana e fatiamento:"
      ],
      "metadata": {
        "id": "MJtbyr701ua8"
      }
    },
    {
      "cell_type": "markdown",
      "source": [
        "![image.png](data:image/png;base64,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)"
      ],
      "metadata": {
        "id": "wQXmQX2u2Rrx"
      }
    },
    {
      "cell_type": "markdown",
      "source": [
        "Aqui temos um conjunto de dados e os números acima desses denotam os indexadores dos valores circunscritos a eles, ou seja, se pedirmos nesse conjunto o indexador 0, ele retornará o valor 2, se for o indexador 1, o valor 3 será retornado e assim por diante. De outra forma, podemos fazer um fatiamento desse conjunto, passando o intervalo entre 0 e 1, retornando o valor 2, o intervalo entre 1 e 2, retornando o valor 3, vejamos:"
      ],
      "metadata": {
        "id": "ELFU7Sde2fA7"
      }
    },
    {
      "cell_type": "code",
      "source": [
        "dados = np.array([2,3,5,7,11])\n",
        "dados[0]"
      ],
      "metadata": {
        "colab": {
          "base_uri": "https://localhost:8080/"
        },
        "id": "NW8zd8Buya-u",
        "outputId": "be8a5c49-6d5e-4756-b12f-6f3baad24deb"
      },
      "execution_count": null,
      "outputs": [
        {
          "output_type": "execute_result",
          "data": {
            "text/plain": [
              "2"
            ]
          },
          "metadata": {},
          "execution_count": 24
        }
      ]
    },
    {
      "cell_type": "code",
      "source": [
        "dados[2:3]"
      ],
      "metadata": {
        "colab": {
          "base_uri": "https://localhost:8080/"
        },
        "id": "GO8MNJM63Zfk",
        "outputId": "ffc1aa93-2889-43f4-b9e1-2c35990ef763"
      },
      "execution_count": null,
      "outputs": [
        {
          "output_type": "execute_result",
          "data": {
            "text/plain": [
              "array([5])"
            ]
          },
          "metadata": {},
          "execution_count": 25
        }
      ]
    },
    {
      "cell_type": "markdown",
      "source": [
        "Vejamos como os arrays operam com um conjunto booleano:"
      ],
      "metadata": {
        "id": "5Ym62lNS3qTs"
      }
    },
    {
      "cell_type": "code",
      "source": [
        "boolean = [True, False, False, True, False] # Só retorna os indexadores que abriga os valores verdadeiros\n",
        "\n",
        "dados[boolean]"
      ],
      "metadata": {
        "colab": {
          "base_uri": "https://localhost:8080/"
        },
        "id": "Tk3w7q5N3ivN",
        "outputId": "bbf8ebe7-24bd-4ca0-c152-5177f3c86deb"
      },
      "execution_count": null,
      "outputs": [
        {
          "output_type": "execute_result",
          "data": {
            "text/plain": [
              "array([2, 7])"
            ]
          },
          "metadata": {},
          "execution_count": 26
        }
      ]
    },
    {
      "cell_type": "markdown",
      "source": [
        "**Matrizes:**"
      ],
      "metadata": {
        "id": "ewQXt09WAmpJ"
      }
    },
    {
      "cell_type": "markdown",
      "source": [
        "![image.png](data:image/png;base64,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)"
      ],
      "metadata": {
        "id": "9Vhdod9GAqn-"
      }
    },
    {
      "cell_type": "code",
      "source": [
        "matriz = np.array([[1000, 6000], [2500, 5500], [3000, 7000]])\n",
        "matriz"
      ],
      "metadata": {
        "colab": {
          "base_uri": "https://localhost:8080/"
        },
        "id": "mb5QKXz9AtHK",
        "outputId": "a5ee2f58-1f8d-4684-fba9-fa27bf949520"
      },
      "execution_count": null,
      "outputs": [
        {
          "output_type": "execute_result",
          "data": {
            "text/plain": [
              "array([[1000, 6000],\n",
              "       [2500, 5500],\n",
              "       [3000, 7000]])"
            ]
          },
          "metadata": {},
          "execution_count": 28
        }
      ]
    },
    {
      "cell_type": "code",
      "source": [
        "matriz[:] # Pegando todos os elementos das matrizes"
      ],
      "metadata": {
        "colab": {
          "base_uri": "https://localhost:8080/"
        },
        "id": "qFa2Szd34ceb",
        "outputId": "12a04346-caf5-40fb-9e54-c93c8b4a8cc4"
      },
      "execution_count": null,
      "outputs": [
        {
          "output_type": "execute_result",
          "data": {
            "text/plain": [
              "array([[1000, 6000],\n",
              "       [2500, 5500],\n",
              "       [3000, 7000]])"
            ]
          },
          "metadata": {},
          "execution_count": 29
        }
      ]
    },
    {
      "cell_type": "code",
      "source": [
        "matriz[1:] # Pegando todos os elementos a partir do primeiro index de uma matriz"
      ],
      "metadata": {
        "colab": {
          "base_uri": "https://localhost:8080/"
        },
        "id": "WlFXLzzxBFjq",
        "outputId": "1e6a2ab8-9516-4e04-b4ef-622503dbac74"
      },
      "execution_count": null,
      "outputs": [
        {
          "output_type": "execute_result",
          "data": {
            "text/plain": [
              "array([[2500, 5500],\n",
              "       [3000, 7000]])"
            ]
          },
          "metadata": {},
          "execution_count": 30
        }
      ]
    },
    {
      "cell_type": "code",
      "source": [
        "matriz[1:, :1] # Pegando apenas os valores a partir do primeiro index de uma matriz,\n",
        "               # como a sua primeira coluna."
      ],
      "metadata": {
        "colab": {
          "base_uri": "https://localhost:8080/"
        },
        "id": "WSPeycKRBIFz",
        "outputId": "df902732-4fb0-4906-c0cc-287a4c56dcb5"
      },
      "execution_count": null,
      "outputs": [
        {
          "output_type": "execute_result",
          "data": {
            "text/plain": [
              "array([[2500],\n",
              "       [3000]])"
            ]
          },
          "metadata": {},
          "execution_count": 35
        }
      ]
    },
    {
      "cell_type": "markdown",
      "source": [
        "Podemos, ainda, realizar uma operação com essas matrizes. Por exemplo, se queremos saber o quanto da divida de cada família representa em sua renda, podemos fazer:"
      ],
      "metadata": {
        "id": "xJ2ltbtuBw6N"
      }
    },
    {
      "cell_type": "code",
      "source": [
        "relacao_divida_renda = matriz[:,1]/matriz[:,0]\n",
        "relacao_divida_renda = relacao_divida_renda*100\n",
        "\n",
        "# O que estou fazendo: basicamente criando uma razão entre cada elemento\n",
        "# da coluna divida em relação à coluna renda, respectivamente. Para tanto,\n",
        "# eu seleciono os valores de todas as linhas da segunda coluna da matriz, que\n",
        "# será o numerador, e depois seleciono todos os valores da primeira coluna da matriz.\n",
        "# A partir dessa razão, constato quantas vezes a divida representa em relação à renda familiar."
      ],
      "metadata": {
        "colab": {
          "base_uri": "https://localhost:8080/"
        },
        "id": "xbpptMhBBJwy",
        "outputId": "732ab8df-f86d-4c87-b03d-b0bdba794c7d"
      },
      "execution_count": null,
      "outputs": [
        {
          "output_type": "execute_result",
          "data": {
            "text/plain": [
              "array([6.        , 2.2       , 2.33333333])"
            ]
          },
          "metadata": {},
          "execution_count": 37
        }
      ]
    },
    {
      "cell_type": "markdown",
      "source": [
        "# Construindo e usando funções:"
      ],
      "metadata": {
        "id": "VOH0y5MnDkE3"
      }
    },
    {
      "cell_type": "markdown",
      "source": [
        "Uma boa maneira de organizar e deixar mais legível e mais reutilizável os códigos em Python é tornando-os uma função. A função se constitui de um modelo que podemos criar no Python, o qual, assim que passar seus argumentos necessários, irá realizar uma determinada operação, produzindo um determinado retorno.  "
      ],
      "metadata": {
        "id": "yc_4ejIJLVzL"
      }
    },
    {
      "cell_type": "code",
      "source": [
        "def calcula_imc(peso:float, altura: float) -> str:\n",
        "\n",
        "  imc = peso / altura**2\n",
        "  imc = round(imc, 2)\n",
        "\n",
        "\n",
        "  if imc >= 18.6 and imc <= 24.6:\n",
        "    print(f\"Seu IMC de {imc} está dentro do normal.\")\n",
        "  elif imc < 18.6:\n",
        "    print(f\"Seu IMC de {imc} está abaixo do normal. Recomendamos consultar um profissional\")\n",
        "  else:\n",
        "    print(f\"Seu IMC de {imc} está acima do normal. Recomendamos consultar um profissional.\")\n"
      ],
      "metadata": {
        "id": "7qdqTOxsCY0-"
      },
      "execution_count": null,
      "outputs": []
    },
    {
      "cell_type": "code",
      "source": [
        "calcula_imc(peso=70, altura=1.75)\n"
      ],
      "metadata": {
        "colab": {
          "base_uri": "https://localhost:8080/"
        },
        "id": "GBVzTSmTMy8j",
        "outputId": "d5c128e1-2783-48dd-9f47-b8e9198b57d8"
      },
      "execution_count": null,
      "outputs": [
        {
          "output_type": "stream",
          "name": "stdout",
          "text": [
            "Seu IMC de 22.86 está dentro do normal.\n"
          ]
        }
      ]
    },
    {
      "cell_type": "markdown",
      "source": [
        "Ainda há uma forma que conseguimos fazer o uso de funções, só que em suas formas anônimas. A vantagem das funções anônimas é que elas são genéricas, permitindo um maior reuso, bem como capacidade de processamento do Python, produzindo o mesmo resultado."
      ],
      "metadata": {
        "id": "IRG6vGtAQueh"
      }
    },
    {
      "cell_type": "code",
      "source": [
        "calcular_imc = lambda peso, altura : round(peso / altura**2, 2)\n",
        "calcular_imc(peso=70, altura=1.75)"
      ],
      "metadata": {
        "colab": {
          "base_uri": "https://localhost:8080/"
        },
        "id": "FwoJ-MsEM9lc",
        "outputId": "d0568633-4389-4f46-dbbc-ff679c68c56b"
      },
      "execution_count": null,
      "outputs": [
        {
          "output_type": "execute_result",
          "data": {
            "text/plain": [
              "22.86"
            ]
          },
          "metadata": {},
          "execution_count": 69
        }
      ]
    },
    {
      "cell_type": "markdown",
      "source": [
        "# Métodos"
      ],
      "metadata": {
        "id": "zaOZF3F6g2n3"
      }
    },
    {
      "cell_type": "markdown",
      "source": [
        "Métodos são funções associadas à classe do objeto, sendo chamadas com nome do objeto.nome do método. Por exemplo, se possui uma variável chamada texto que contém uma string, posso chamar o método lower da seguinte forma: texto.lower(). Podemos ver, em código, a seguir:"
      ],
      "metadata": {
        "id": "2C4jYiafg6tE"
      }
    },
    {
      "cell_type": "code",
      "source": [
        "texto = \"Chupa, Flavinho\"\n",
        "texto = texto.lower()\n",
        "texto"
      ],
      "metadata": {
        "colab": {
          "base_uri": "https://localhost:8080/",
          "height": 36
        },
        "id": "vyFTlWDPQuFn",
        "outputId": "4836d18f-7a78-44dd-8fff-39e6d5fdfb29"
      },
      "execution_count": null,
      "outputs": [
        {
          "output_type": "execute_result",
          "data": {
            "text/plain": [
              "'chupa, flavinho'"
            ],
            "application/vnd.google.colaboratory.intrinsic+json": {
              "type": "string"
            }
          },
          "metadata": {},
          "execution_count": 71
        }
      ]
    },
    {
      "cell_type": "markdown",
      "source": [
        "**Curiosidade:**"
      ],
      "metadata": {
        "id": "jHdm4QBwqz09"
      }
    },
    {
      "cell_type": "markdown",
      "source": [
        "Eu posso fazer uma lista de dados, colocando os intervalos iniciais e finais, bem como a progressão que seguem, de uma maneira célere, sem precisar de, para tanto, de usar qualquer loop. Vejamos:"
      ],
      "metadata": {
        "id": "M8gpvs9xrQnF"
      }
    },
    {
      "cell_type": "code",
      "source": [
        "lista = list(range(170, 195 + 1, 5))\n",
        "print(lista, end=\",\")\n",
        "\n",
        "# Aqui eu estou gerando uma lista por meio do método list, no qual passo\n",
        "# o método range, que define um alcançe para os meus dados, sendo o primeiro\n",
        "# para onde o conjunto de dados irá iniciar, o segundo simbolizando aquilo que\n",
        "# seria o valor final, logo em seguida a razão da progressão que essa formação\n",
        "# obedece.\n",
        "\n",
        "# Como sabemos, o método range sempre omite ou exlcui, não chega naquele valor\n",
        "# que se coloca como último; matematicamente, poderíamos compreendê-lo da seguinte\n",
        "# forma: valor_inicial >= x < valor_final.\n",
        "\n",
        "# Assim, para que chegamos a um determinado valor que queremos encontrar,\n",
        "# podemos escrever o termo que logo lhe é seguinte (no exemplo aqui seria o 196),\n",
        "# ou para deixar mais genérico e, portanto, universal coloco o último termo que\n",
        "# quero encontrar, chegar + 1."
      ],
      "metadata": {
        "id": "FhGCpGSvhOUb",
        "colab": {
          "base_uri": "https://localhost:8080/"
        },
        "outputId": "e43b8179-bed3-4cb8-8f1c-444b4bff7ad4"
      },
      "execution_count": 11,
      "outputs": [
        {
          "output_type": "stream",
          "name": "stdout",
          "text": [
            "[170, 175, 180, 185, 190, 195],"
          ]
        }
      ]
    },
    {
      "cell_type": "code",
      "source": [],
      "metadata": {
        "id": "A9fikOV2rvb9"
      },
      "execution_count": null,
      "outputs": []
    }
  ]
}